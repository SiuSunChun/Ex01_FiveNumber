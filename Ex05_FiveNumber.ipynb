{
 "cells": [
  {
   "cell_type": "code",
   "execution_count": null,
   "id": "baf9b562-1a14-4ac7-892c-5530a65e7279",
   "metadata": {},
   "outputs": [],
   "source": [
    "library(statnet)"
   ]
  },
  {
   "cell_type": "code",
   "execution_count": null,
   "id": "b2663512-e890-4e38-8399-22b0bc7525cb",
   "metadata": {},
   "outputs": [],
   "source": [
    "###Location for plots\n",
    "GG<-as.matrix(read.csv('https://raw.githubusercontent.com/SiuSunChun/Ex01_FiveNumber/main/NetDLoc.csv',he=T))\n",
    "\n",
    "###Data in Sociomatrices (adjacency matrix) \n",
    "FD<-as.matrix(read.csv('https://raw.githubusercontent.com/SiuSunChun/Ex01_FiveNumber/main/NetD.csv', row.names=1,he=T,sep=','))\n",
    "#FD"
   ]
  },
  {
   "cell_type": "code",
   "execution_count": null,
   "id": "bc802189-7e5a-4bbe-aa11-54d13f93340b",
   "metadata": {},
   "outputs": [],
   "source": [
    "nFD<-network(FD)\n"
   ]
  },
  {
   "cell_type": "code",
   "execution_count": null,
   "id": "ec62071e-c822-4417-81f1-d2dbbc1fc65c",
   "metadata": {},
   "outputs": [],
   "source": [
    "plot(nFD, vertex.cex=apply(FD,2,sum)+1, usearrows=FALSE,\n",
    "    vertex.sides=3+apply(FD,2,sum),label=network.vertex.names(nFD),\n",
    "    vertex.col=2+(network.vertex.names(nFD)==\"Ivory\"),coord=GG)\n",
    "\n"
   ]
  },
  {
   "cell_type": "code",
   "execution_count": null,
   "id": "a09eecb0-91d2-4b96-808d-ffa64896a42c",
   "metadata": {},
   "outputs": [],
   "source": [
    "####Size\n",
    "network.size(nFD)"
   ]
  },
  {
   "cell_type": "code",
   "execution_count": null,
   "id": "523943c8-ba6d-4e7a-a0a9-d29346de62fd",
   "metadata": {},
   "outputs": [],
   "source": [
    "####Density \n",
    "gden(nFD)"
   ]
  },
  {
   "cell_type": "code",
   "execution_count": null,
   "id": "f5e1423a-3d47-40c3-aef2-ce477ba7c03a",
   "metadata": {},
   "outputs": [],
   "source": [
    "####Components\n",
    "components(nFD)"
   ]
  },
  {
   "cell_type": "code",
   "execution_count": null,
   "id": "2a763a65-573f-4203-8d2d-924678632841",
   "metadata": {},
   "outputs": [],
   "source": [
    "####Diameter \n",
    "lgc<-component.largest(nFD,result='graph')\n",
    "gd<-geodist(lgc)\n",
    "max(gd$gdist) ##Jane to Donny"
   ]
  },
  {
   "cell_type": "code",
   "execution_count": null,
   "id": "1ca8d6c7-ad56-4302-8bce-b4dd3c29a6b5",
   "metadata": {},
   "outputs": [],
   "source": [
    "###Clustering coefficient, Transitivity \n",
    "gtrans(nFD,mode='graph')"
   ]
  },
  {
   "cell_type": "code",
   "execution_count": null,
   "id": "3929325b-8dea-4a95-81ae-4378031b959c",
   "metadata": {},
   "outputs": [],
   "source": [
    "####Change\n",
    "cbind(1:16,row.names(FD))\n",
    "\n",
    "#####################\n",
    "FD2<-FD\n",
    "FD2[6,14]=1 #Fred to Nora\n",
    "FD2[14,6]=1 #Nora to Fred\n",
    "\n",
    "FD2[1,14]=1 #Ada to Jane\n",
    "FD2[14,1]=1 #Jane to Ada\n",
    "\n",
    "FD2[3,12]=1 #Cat to Lindo\n",
    "FD2[12,3]=1 #Linda to Cat\n",
    "\n",
    "#########\n",
    "nFD2<-network(FD2)"
   ]
  },
  {
   "cell_type": "code",
   "execution_count": null,
   "id": "d711d314-5957-4abd-ac42-7a542714fa45",
   "metadata": {},
   "outputs": [],
   "source": [
    "##Set colour for the new link\n",
    "cbind(1:46,as.edgelist(nFD2))\n",
    "\n",
    "COLe<-rep(1,46)\n",
    "COLe[c(2,8,16,32,36,37)]<-4 #blue colour\n",
    "\n"
   ]
  },
  {
   "cell_type": "code",
   "execution_count": null,
   "id": "201f70ef-93b1-449a-8c4e-97206e9ff488",
   "metadata": {},
   "outputs": [],
   "source": [
    "plot(nFD2, vertex.cex=apply(FD2,2,sum)+1, usearrows=FALSE,\n",
    "    vertex.sides=3+apply(FD2,2,sum),label=network.vertex.names(nFD2),\n",
    "    vertex.col=2+(network.vertex.names(nFD2)==\"Ivory\"),coord=GG,edge.col =COLe)\n"
   ]
  },
  {
   "cell_type": "code",
   "execution_count": null,
   "id": "5808834e-cc11-4f14-bd6f-9c514f61b3b8",
   "metadata": {},
   "outputs": [],
   "source": [
    "####Size\n",
    "network.size(nFD)\n",
    "network.size(nFD2)"
   ]
  },
  {
   "cell_type": "code",
   "execution_count": null,
   "id": "7c336d17-f238-43de-97f4-b853916aeedc",
   "metadata": {},
   "outputs": [],
   "source": [
    "####Density \n",
    "gden(nFD)\n",
    "gden(nFD2)\n"
   ]
  },
  {
   "cell_type": "code",
   "execution_count": null,
   "id": "23e61e92-77b8-4695-8040-4cfb5396db10",
   "metadata": {},
   "outputs": [],
   "source": [
    "####Components\n",
    "components(nFD)\n",
    "components(nFD2)\n"
   ]
  },
  {
   "cell_type": "code",
   "execution_count": null,
   "id": "e6934f4a-4863-4e32-9a65-f70fe85211d8",
   "metadata": {},
   "outputs": [],
   "source": [
    "####Diameter \n",
    "lgc<-component.largest(nFD,result='graph')\n",
    "gd<-geodist(lgc)\n",
    "max(gd$gdist) ##Jane to Donny\n",
    "\n",
    "lgc<-component.largest(nFD2,result='graph')\n",
    "gd<-geodist(lgc)\n",
    "max(gd$gdist) ##Jane to Donny\n"
   ]
  },
  {
   "cell_type": "code",
   "execution_count": null,
   "id": "c1fbe1e1-ccb0-4559-9062-83ac75bd38ae",
   "metadata": {},
   "outputs": [],
   "source": [
    "###Clustering coefficient, Transitivity\n",
    "gtrans(nFD,mode='graph')\n",
    "gtrans(nFD2,mode='graph')"
   ]
  },
  {
   "cell_type": "code",
   "execution_count": null,
   "id": "27fddcb9-982e-4548-b6cb-7b06599350c8",
   "metadata": {},
   "outputs": [],
   "source": []
  }
 ],
 "metadata": {
  "kernelspec": {
   "display_name": "RNet",
   "language": "R",
   "name": "ir"
  },
  "language_info": {
   "codemirror_mode": "r",
   "file_extension": ".r",
   "mimetype": "text/x-r-source",
   "name": "R",
   "pygments_lexer": "r",
   "version": "4.3.2"
  }
 },
 "nbformat": 4,
 "nbformat_minor": 5
}
